{
 "cells": [
  {
   "cell_type": "code",
   "execution_count": 5,
   "metadata": {},
   "outputs": [],
   "source": [
    "from sqlalchemy.orm import declarative_base \n",
    "from sqlalchemy import Column, Integer, String\n",
    "\n",
    "Base = declarative_base()\n",
    "\n",
    "class Company(Base):\n",
    "    __tablename__ = 'company'\n",
    "\n",
    "    company_id = Column(Integer, primary_key=True)\n",
    "    name = Column(String)\n",
    "    address = Column(String)\n",
    "    \n",
    "    def __str__(self):\n",
    "        return f'This is a company {self.name}. Address: {self.address}'\n",
    "    \n",
    "    def __repr__(self):\n",
    "        return f'This is a company {self.name}. Address: {self.address}'"
   ]
  },
  {
   "cell_type": "code",
   "execution_count": 6,
   "metadata": {},
   "outputs": [],
   "source": [
    "from sqlalchemy import ForeignKey\n",
    "from sqlalchemy import Integer\n",
    "from sqlalchemy.orm import Mapped\n",
    "from sqlalchemy.orm import mapped_column\n",
    "\n",
    "class Car(Base):\n",
    "    __tablename__ = 'car'\n",
    "\n",
    "    car_id = Column(Integer, primary_key=True)\n",
    "    reg_number = Column(String)\n",
    "    model = Column(String)\n",
    "    company_id = mapped_column(ForeignKey(\"company.company_id\"))\n",
    "\n",
    "    def __str__(self):\n",
    "        return f'This is a car {self.reg_number}. Model: {self.model}'\n",
    "    \n",
    "    def __repr__(self):\n",
    "        return f'This is a car {self.reg_number}. Model: {self.model}'"
   ]
  },
  {
   "cell_type": "code",
   "execution_count": 7,
   "metadata": {},
   "outputs": [],
   "source": [
    "from sqlalchemy import create_engine\n",
    "\n",
    "DATABASE_URI = 'postgresql://{user}:{password}@{host}:{port}/{database}'\n",
    "\n",
    "\n",
    "engine = create_engine(\n",
    "    DATABASE_URI.format(\n",
    "        host='localhost',\n",
    "        database='postgres',\n",
    "        user='postgres',\n",
    "        password='password',\n",
    "        port=5432,\n",
    "    )\n",
    ")"
   ]
  },
  {
   "cell_type": "code",
   "execution_count": 8,
   "metadata": {},
   "outputs": [],
   "source": [
    "Base.metadata.create_all(engine)"
   ]
  },
  {
   "cell_type": "code",
   "execution_count": 9,
   "metadata": {},
   "outputs": [],
   "source": [
    "from sqlalchemy.orm import sessionmaker\n",
    "\n",
    "Session = sessionmaker(bind=engine)\n",
    "\n",
    "# To connect to DB with SQLAlchemy you need to create sessions:\n",
    "session = Session()"
   ]
  },
  {
   "cell_type": "code",
   "execution_count": 10,
   "metadata": {},
   "outputs": [],
   "source": [
    "session.close()"
   ]
  },
  {
   "cell_type": "code",
   "execution_count": 11,
   "metadata": {},
   "outputs": [],
   "source": [
    "c1 = Company()\n",
    "c1.name = 'Lyubava'\n",
    "c1.address = 'smt Gorodkivka'\n",
    "\n",
    "c2 = Company()\n",
    "c2.name = 'TOV Apple'\n",
    "c2.address = 'Kyiv'\n",
    "\n",
    "c3 = Company()\n",
    "c3.name = 'Norfolk&Partners'\n",
    "c3.address = 'Lviv'"
   ]
  },
  {
   "cell_type": "code",
   "execution_count": 12,
   "metadata": {},
   "outputs": [],
   "source": [
    "session.add_all([c1, c2, c3])\n",
    "session.commit()"
   ]
  },
  {
   "cell_type": "code",
   "execution_count": 13,
   "metadata": {},
   "outputs": [],
   "source": [
    "t1 = Car()\n",
    "t1.reg_number = 'KA 0459 TO'\n",
    "t1.model = 'VW'\n",
    "t1.company_id = 1\n",
    "\n",
    "t2 = Car()\n",
    "t2.reg_number = 'KA 0908 TO'\n",
    "t2.model = 'Skoda'\n",
    "t2.company_id = 3\n",
    "\n",
    "t3 = Car()\n",
    "t3.reg_number = 'KA 1159 PO'\n",
    "t3.model = 'Volvo'\n",
    "t3.company_id = 2\n",
    "\n",
    "t4 = Car()\n",
    "t4.reg_number = 'KA 2349 TO'\n",
    "t4.model = 'Kia'\n",
    "t4.company_id = 1\n",
    "\n",
    "t5 = Car()\n",
    "t5.reg_number = 'KA 5623 TO'\n",
    "t5.model = 'Chevrolet'\n",
    "t5.company_id = 2\n",
    "\n",
    "t6 = Car()\n",
    "t6.reg_number = 'KA 0477 TO'\n",
    "t6.model = 'Kia'\n",
    "t6.company_id = 3\n",
    "\n",
    "t7 = Car()\n",
    "t7.reg_number = 'AA 7777 BB'\n",
    "t7.model = 'Nissan'\n",
    "t7.company_id = 2\n",
    "\n",
    "t8 = Car()\n",
    "t8.reg_number = 'KA 0459 HH'\n",
    "t8.model = 'Fiat'\n",
    "t8.company_id = 1\n",
    "\n",
    "session.add_all([t1, t2, t3, t4, t5, t6, t7, t8])\n",
    "session.commit()"
   ]
  },
  {
   "cell_type": "code",
   "execution_count": 14,
   "metadata": {},
   "outputs": [],
   "source": [
    "first_company = session.query(Company).first()"
   ]
  },
  {
   "cell_type": "code",
   "execution_count": 15,
   "metadata": {},
   "outputs": [
    {
     "data": {
      "text/plain": [
       "This is a company Lyubava. Address: smt Gorodkivka"
      ]
     },
     "execution_count": 15,
     "metadata": {},
     "output_type": "execute_result"
    }
   ],
   "source": [
    "first_company"
   ]
  },
  {
   "cell_type": "code",
   "execution_count": 19,
   "metadata": {},
   "outputs": [],
   "source": [
    "company = session.query(Company).all() # select * from student \n",
    "\n",
    "# for company in company:\n",
    "#     print(f'Company id  {student.id}')\n",
    "#     print(f'Company name  {student.name}')\n",
    "#     print(f'Company age  {student.age}')\n",
    "#     print()"
   ]
  },
  {
   "cell_type": "code",
   "execution_count": 20,
   "metadata": {},
   "outputs": [
    {
     "data": {
      "text/plain": [
       "[This is a company Lyubava. Address: smt Gorodkivka,\n",
       " This is a company TOV Apple. Address: Kyiv,\n",
       " This is a company Norfolk&Partners. Address: Lviv]"
      ]
     },
     "execution_count": 20,
     "metadata": {},
     "output_type": "execute_result"
    }
   ],
   "source": [
    "company"
   ]
  },
  {
   "cell_type": "code",
   "execution_count": 21,
   "metadata": {},
   "outputs": [
    {
     "data": {
      "text/plain": [
       "1"
      ]
     },
     "execution_count": 21,
     "metadata": {},
     "output_type": "execute_result"
    }
   ],
   "source": [
    "first_company.company_id"
   ]
  },
  {
   "cell_type": "code",
   "execution_count": 22,
   "metadata": {},
   "outputs": [
    {
     "data": {
      "text/plain": [
       "[(1, 'Lyubava'), (2, 'TOV Apple'), (3, 'Norfolk&Partners')]"
      ]
     },
     "execution_count": 22,
     "metadata": {},
     "output_type": "execute_result"
    }
   ],
   "source": [
    "session.query(Company.company_id, Company.name).all()\n",
    "# Select company_id, name from company"
   ]
  },
  {
   "cell_type": "code",
   "execution_count": 27,
   "metadata": {},
   "outputs": [
    {
     "name": "stdout",
     "output_type": "stream",
     "text": [
      "Company Lyubava rents 3 cars.\n"
     ]
    }
   ],
   "source": [
    "from sqlalchemy import func\n",
    "\n",
    "company_name = 'Lyubava'\n",
    "\n",
    "num_cars = session.query(func.count(Car.car_id)).join(Company).filter(Company.name == company_name).scalar()\n",
    "\n",
    "print(f\"Company {company_name} rents {num_cars} cars.\")"
   ]
  },
  {
   "cell_type": "code",
   "execution_count": 28,
   "metadata": {},
   "outputs": [],
   "source": [
    "session.close()"
   ]
  }
 ],
 "metadata": {
  "kernelspec": {
   "display_name": "venv",
   "language": "python",
   "name": "python3"
  },
  "language_info": {
   "codemirror_mode": {
    "name": "ipython",
    "version": 3
   },
   "file_extension": ".py",
   "mimetype": "text/x-python",
   "name": "python",
   "nbconvert_exporter": "python",
   "pygments_lexer": "ipython3",
   "version": "3.10.9"
  },
  "orig_nbformat": 4,
  "vscode": {
   "interpreter": {
    "hash": "9da5b6786ebdfdb2aad301b7adfb2c6b4f5f1e1f8edda8fb12f7a9213c027e60"
   }
  }
 },
 "nbformat": 4,
 "nbformat_minor": 2
}
